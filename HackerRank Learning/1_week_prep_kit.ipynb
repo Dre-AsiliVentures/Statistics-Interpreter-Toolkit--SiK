{
 "cells": [
  {
   "cell_type": "markdown",
   "metadata": {},
   "source": [
    "List Minimum and Maximum"
   ]
  },
  {
   "cell_type": "code",
   "execution_count": 47,
   "metadata": {},
   "outputs": [],
   "source": [
    "arr=[12,4,5,7,9]\n",
    "#help(arr)"
   ]
  },
  {
   "cell_type": "code",
   "execution_count": 54,
   "metadata": {},
   "outputs": [
    {
     "name": "stdout",
     "output_type": "stream",
     "text": [
      "[4, 5, 7, 9, 12]\n"
     ]
    }
   ],
   "source": [
    "new_arr=sorted(arr) # Sort the array in ascending order\n",
    "print(new_arr)\n",
    "# for index in range(len(arr)):\n",
    "    # new_arr=arr.sort([index])"
   ]
  },
  {
   "cell_type": "code",
   "execution_count": 45,
   "metadata": {},
   "outputs": [
    {
     "name": "stdout",
     "output_type": "stream",
     "text": [
      "18 25\n"
     ]
    }
   ],
   "source": [
    "if arr[index] in range(1,10**9):\n",
    "    sum_arr=sum(arr)\n",
    "    min_sum=sum_arr-arr[len(arr)-1]\n",
    "    max_sum=sum_arr-arr[0]\n",
    "    print(min_sum,max_sum)\n",
    "else:\n",
    "    pass"
   ]
  },
  {
   "cell_type": "markdown",
   "metadata": {},
   "source": [
    "Time Conversion"
   ]
  },
  {
   "cell_type": "code",
   "execution_count": 57,
   "metadata": {},
   "outputs": [
    {
     "name": "stdout",
     "output_type": "stream",
     "text": [
      "No\n",
      "Buda UKO serious enyewe\n"
     ]
    }
   ],
   "source": [
    "s=input()\n",
    "if s.__contains__(\"a\"): # Check if the string contains the character 'a'\n",
    "    print(\"Yes\")\n",
    "else:\n",
    "    print(\"No\")\n",
    "    print(\"Buda UKO serious enyewe\")"
   ]
  },
  {
   "cell_type": "code",
   "execution_count": 59,
   "metadata": {},
   "outputs": [
    {
     "name": "stdout",
     "output_type": "stream",
     "text": [
      "['kenya:23:34']\n"
     ]
    }
   ],
   "source": [
    "s=input().split()\n",
    "print(s)"
   ]
  },
  {
   "cell_type": "code",
   "execution_count": 61,
   "metadata": {},
   "outputs": [
    {
     "data": {
      "text/plain": [
       "[' a hello ', ' Hi']"
      ]
     },
     "execution_count": 61,
     "metadata": {},
     "output_type": "execute_result"
    }
   ],
   "source": [
    "sentence = ' a hello b Hi'\n",
    "sentence.rsplit('b', 1)"
   ]
  },
  {
   "cell_type": "code",
   "execution_count": 64,
   "metadata": {},
   "outputs": [
    {
     "name": "stdout",
     "output_type": "stream",
     "text": [
      "['12', '00', '00PM']\n"
     ]
    }
   ],
   "source": [
    "time='12:00:00PM'\n",
    "time=time.split(':')\n",
    "print(time)\n",
    "time[0]=int(time[0])"
   ]
  },
  {
   "cell_type": "code",
   "execution_count": null,
   "metadata": {},
   "outputs": [],
   "source": [
    "if time[0]>12:\n",
    "    time[0]=time[0]-12\n",
    "    time[0]=str(time[0])"
   ]
  },
  {
   "cell_type": "markdown",
   "metadata": {},
   "source": [
    "# String contains any character"
   ]
  },
  {
   "cell_type": "code",
   "execution_count": 67,
   "metadata": {},
   "outputs": [
    {
     "name": "stdout",
     "output_type": "stream",
     "text": [
      "24:00:12PM\n"
     ]
    }
   ],
   "source": [
    "#s=input()\n",
    "s='12:01:00PM'\n",
    "p=s.split(':')\n",
    "    if s.__contains__(\"PM\") or s.__contains__(\"pm\"):\n",
    "        p[0]=int(p[0])+12\n",
    "        print(str(p[0])+\":\"+str(p[1])+\":\"+str(p[2]))\n",
    "    elif s.__contains__(\"AM\") or s.__contains__(\"am\"):\n",
    "        p[0]=int(p[0])-12\n",
    "        print(str(p[0])+\":\"+str(p[1])+\":\"+str(p[2]))\n",
    "    else:\n",
    "        pass"
   ]
  },
  {
   "cell_type": "code",
   "execution_count": 84,
   "metadata": {},
   "outputs": [
    {
     "name": "stdout",
     "output_type": "stream",
     "text": [
      "00PM\n"
     ]
    }
   ],
   "source": [
    "s='12:01:00PM'\n",
    "p=s.split(\":\")\n",
    "print(p[-1])"
   ]
  },
  {
   "cell_type": "code",
   "execution_count": 77,
   "metadata": {},
   "outputs": [
    {
     "name": "stdout",
     "output_type": "stream",
     "text": [
      "0\n",
      "12\n",
      "12\n",
      "12:01:00\n"
     ]
    }
   ],
   "source": [
    "s='12:01:00PM'\n",
    "p=s.split(\":\")\n",
    "p[0]=int(p[0])%12\n",
    "#print(p[0])\n",
    "p[0]+=12\n",
    "#print(p[0])\n",
    "p[0] = '%02d'%p[0]\n",
    "#print(p[0])\n",
    "print(\":\".join(p)[:-2])"
   ]
  },
  {
   "cell_type": "code",
   "execution_count": null,
   "metadata": {},
   "outputs": [],
   "source": [
    "p=s.split(':')\n",
    "    if s.__contains__(\"PM\") or s.__contains__(\"pm\"):\n",
    "        p[0]=int(p[0])+12\n",
    "        print(str(p[0])+\":\"+str(p[1])+\":\"+str(p[2]))\n",
    "    elif s.__contains__(\"AM\") or s.__contains__(\"am\"):\n",
    "        p[0]=int(p[0])-12\n",
    "        print(str(p[0])+\":\"+str(p[1])+\":\"+str(p[2]))\n",
    "    else:\n",
    "        pass"
   ]
  },
  {
   "cell_type": "markdown",
   "metadata": {},
   "source": [
    "# Median in Lists"
   ]
  },
  {
   "cell_type": "code",
   "execution_count": 4,
   "metadata": {},
   "outputs": [
    {
     "name": "stdout",
     "output_type": "stream",
     "text": [
      "3.0\n",
      "Even case\n",
      "Median Index: 3\n",
      "16.0\n"
     ]
    }
   ],
   "source": [
    "arr=[23,2,45,9,0,100]\n",
    "arr=sorted(arr)\n",
    "center=len(arr)/2\n",
    "print(center)\n",
    "if len(arr)%2==0:\n",
    "    median_index=len(arr)//2\n",
    "    print(\"Even case\")\n",
    "    print(\"Median Index:\",median_index)\n",
    "    median=(arr[int(median_index-1)]+arr[int(median_index)])/2\n",
    "    print(median)\n",
    "elif len(arr)%2!=0:\n",
    "    print(\"Odd case\")\n",
    "    median_index=len(arr)//2\n",
    "    median=arr[int(center)]\n",
    "    print(median)\n"
   ]
  },
  {
   "cell_type": "markdown",
   "metadata": {},
   "source": [
    "# Runners Up in Lists"
   ]
  },
  {
   "cell_type": "code",
   "execution_count": 23,
   "metadata": {},
   "outputs": [
    {
     "name": "stdout",
     "output_type": "stream",
     "text": [
      "You entered: 3\n",
      "[4, 9, 1]\n",
      "4\n"
     ]
    }
   ],
   "source": [
    "import random\n",
    "A=list()\n",
    "n=int(input())\n",
    "print(\"Length of List- 'You entered':\",n)\n",
    "for i in range(n):\n",
    "    A.insert(i,random.randint(1,10))\n",
    "print(A) # Print the list\n",
    "new_arr=sorted(A)# Sort the array in ascending order\n",
    "print(new_arr[n-2]) # Second highest number\n"
   ]
  },
  {
   "cell_type": "code",
   "execution_count": 13,
   "metadata": {},
   "outputs": [
    {
     "name": "stdout",
     "output_type": "stream",
     "text": [
      "[7, 1, 3]\n"
     ]
    }
   ],
   "source": [
    "#i=0\n",
    "A=list()\n",
    "random.randint(1,10)\n",
    "for i in range(3):\n",
    "    A.insert(i,random.randint(1,10))\n",
    "print(A)"
   ]
  },
  {
   "cell_type": "code",
   "execution_count": 36,
   "metadata": {},
   "outputs": [
    {
     "name": "stdout",
     "output_type": "stream",
     "text": [
      "4 9\n"
     ]
    }
   ],
   "source": [
    "print(*A)"
   ]
  },
  {
   "cell_type": "code",
   "execution_count": 37,
   "metadata": {},
   "outputs": [
    {
     "ename": "TypeError",
     "evalue": "descriptor 'append' for 'list' objects doesn't apply to a 'int' object",
     "output_type": "error",
     "traceback": [
      "\u001b[1;31m---------------------------------------------------------------------------\u001b[0m",
      "\u001b[1;31mTypeError\u001b[0m                                 Traceback (most recent call last)",
      "\u001b[1;32m~\\AppData\\Local\\Temp/ipykernel_4024/1440334783.py\u001b[0m in \u001b[0;36m<module>\u001b[1;34m\u001b[0m\n\u001b[0;32m      1\u001b[0m \u001b[0marr\u001b[0m\u001b[1;33m=\u001b[0m\u001b[1;33m[\u001b[0m\u001b[1;36m12\u001b[0m\u001b[1;33m,\u001b[0m\u001b[1;36m4\u001b[0m\u001b[1;33m,\u001b[0m\u001b[1;36m5\u001b[0m\u001b[1;33m,\u001b[0m\u001b[1;36m7\u001b[0m\u001b[1;33m,\u001b[0m\u001b[1;36m9\u001b[0m\u001b[1;33m]\u001b[0m\u001b[1;33m\u001b[0m\u001b[1;33m\u001b[0m\u001b[0m\n\u001b[0;32m      2\u001b[0m \u001b[1;32mfor\u001b[0m \u001b[0ma\u001b[0m \u001b[1;32min\u001b[0m \u001b[0marr\u001b[0m\u001b[1;33m:\u001b[0m\u001b[1;33m\u001b[0m\u001b[1;33m\u001b[0m\u001b[0m\n\u001b[1;32m----> 3\u001b[1;33m     \u001b[0mlist\u001b[0m\u001b[1;33m.\u001b[0m\u001b[0mappend\u001b[0m\u001b[1;33m(\u001b[0m\u001b[0ma\u001b[0m\u001b[1;33m)\u001b[0m\u001b[1;33m\u001b[0m\u001b[1;33m\u001b[0m\u001b[0m\n\u001b[0m\u001b[0;32m      4\u001b[0m     \u001b[0mlist\u001b[0m\u001b[1;33m.\u001b[0m\u001b[0msort\u001b[0m\u001b[1;33m(\u001b[0m\u001b[0mreverse\u001b[0m\u001b[1;33m=\u001b[0m\u001b[1;32mTrue\u001b[0m\u001b[1;33m)\u001b[0m\u001b[1;33m\u001b[0m\u001b[1;33m\u001b[0m\u001b[0m\n\u001b[0;32m      5\u001b[0m \u001b[1;32mfor\u001b[0m \u001b[0mi\u001b[0m \u001b[1;32min\u001b[0m \u001b[0mrange\u001b[0m\u001b[1;33m(\u001b[0m\u001b[1;36m1\u001b[0m\u001b[1;33m,\u001b[0m\u001b[0mn\u001b[0m\u001b[1;33m)\u001b[0m\u001b[1;33m:\u001b[0m\u001b[1;33m\u001b[0m\u001b[1;33m\u001b[0m\u001b[0m\n",
      "\u001b[1;31mTypeError\u001b[0m: descriptor 'append' for 'list' objects doesn't apply to a 'int' object"
     ]
    }
   ],
   "source": [
    "arr=[12,4,5,7,9]\n",
    "for a in arr:\n",
    "    list.append(a)\n",
    "    list.sort(reverse=True)\n",
    "for i in range(1,n):\n",
    "    if(list[0]!=list[i]):\n",
    "        print(list[i])\n",
    "        break"
   ]
  }
 ],
 "metadata": {
  "kernelspec": {
   "display_name": "Python 3.9.7 ('base')",
   "language": "python",
   "name": "python3"
  },
  "language_info": {
   "codemirror_mode": {
    "name": "ipython",
    "version": 3
   },
   "file_extension": ".py",
   "mimetype": "text/x-python",
   "name": "python",
   "nbconvert_exporter": "python",
   "pygments_lexer": "ipython3",
   "version": "3.9.7"
  },
  "orig_nbformat": 4,
  "vscode": {
   "interpreter": {
    "hash": "b0e6aa0c7315559b465a56df7745b95956df913857210652a8e0ee148ea9e296"
   }
  }
 },
 "nbformat": 4,
 "nbformat_minor": 2
}

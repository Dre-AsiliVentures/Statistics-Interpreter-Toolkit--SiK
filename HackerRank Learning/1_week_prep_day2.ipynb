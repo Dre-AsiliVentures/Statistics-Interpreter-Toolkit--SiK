{
 "cells": [
  {
   "cell_type": "markdown",
   "metadata": {},
   "source": [
    "# Unique Integers in List"
   ]
  },
  {
   "cell_type": "code",
   "execution_count": 1,
   "metadata": {},
   "outputs": [],
   "source": [
    "arr=[1,2,3,4,3,2,1]"
   ]
  },
  {
   "cell_type": "code",
   "execution_count": 21,
   "metadata": {},
   "outputs": [
    {
     "name": "stdout",
     "output_type": "stream",
     "text": [
      "[1, 1, 2, 2, 3, 3]\n",
      "[4]\n"
     ]
    }
   ],
   "source": [
    "sorted_arr=sorted(arr)\n",
    "unique_values=list()\n",
    "duplicate_values=list()\n",
    "for values in sorted_arr:\n",
    "    if sorted_arr.count(values)>1:\n",
    "        duplicate_values.append(values)\n",
    "    else:\n",
    "        unique_values.append(values)\n",
    "print(duplicate_values)\n",
    "print(unique_values)"
   ]
  }
 ],
 "metadata": {
  "kernelspec": {
   "display_name": "Python 3.9.7 ('base')",
   "language": "python",
   "name": "python3"
  },
  "language_info": {
   "codemirror_mode": {
    "name": "ipython",
    "version": 3
   },
   "file_extension": ".py",
   "mimetype": "text/x-python",
   "name": "python",
   "nbconvert_exporter": "python",
   "pygments_lexer": "ipython3",
   "version": "3.9.7"
  },
  "orig_nbformat": 4,
  "vscode": {
   "interpreter": {
    "hash": "b0e6aa0c7315559b465a56df7745b95956df913857210652a8e0ee148ea9e296"
   }
  }
 },
 "nbformat": 4,
 "nbformat_minor": 2
}

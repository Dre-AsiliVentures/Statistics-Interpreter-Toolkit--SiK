{
 "cells": [
  {
   "cell_type": "code",
   "execution_count": 2,
   "metadata": {},
   "outputs": [],
   "source": [
    "# Jupyter Notebook\n",
    "import pandas as pd \n"
   ]
  },
  {
   "cell_type": "code",
   "execution_count": 3,
   "metadata": {},
   "outputs": [
    {
     "data": {
      "text/html": [
       "<div>\n",
       "<style scoped>\n",
       "    .dataframe tbody tr th:only-of-type {\n",
       "        vertical-align: middle;\n",
       "    }\n",
       "\n",
       "    .dataframe tbody tr th {\n",
       "        vertical-align: top;\n",
       "    }\n",
       "\n",
       "    .dataframe thead th {\n",
       "        text-align: right;\n",
       "    }\n",
       "</style>\n",
       "<table border=\"1\" class=\"dataframe\">\n",
       "  <thead>\n",
       "    <tr style=\"text-align: right;\">\n",
       "      <th></th>\n",
       "      <th>close</th>\n",
       "      <th>high</th>\n",
       "      <th>low</th>\n",
       "      <th>open</th>\n",
       "      <th>volume</th>\n",
       "      <th>adjClose</th>\n",
       "      <th>adjHigh</th>\n",
       "      <th>adjLow</th>\n",
       "      <th>adjOpen</th>\n",
       "      <th>adjVolume</th>\n",
       "      <th>divCash</th>\n",
       "      <th>splitFactor</th>\n",
       "    </tr>\n",
       "  </thead>\n",
       "  <tbody>\n",
       "    <tr>\n",
       "      <th>0</th>\n",
       "      <td>146.58</td>\n",
       "      <td>147.200</td>\n",
       "      <td>144.96</td>\n",
       "      <td>145.10</td>\n",
       "      <td>32818760</td>\n",
       "      <td>34.593441</td>\n",
       "      <td>34.739763</td>\n",
       "      <td>34.211115</td>\n",
       "      <td>34.244155</td>\n",
       "      <td>131275040</td>\n",
       "      <td>0.0</td>\n",
       "      <td>1.0</td>\n",
       "    </tr>\n",
       "    <tr>\n",
       "      <th>1</th>\n",
       "      <td>147.51</td>\n",
       "      <td>148.090</td>\n",
       "      <td>146.84</td>\n",
       "      <td>147.54</td>\n",
       "      <td>39752670</td>\n",
       "      <td>34.812924</td>\n",
       "      <td>34.949807</td>\n",
       "      <td>34.654802</td>\n",
       "      <td>34.820004</td>\n",
       "      <td>159010680</td>\n",
       "      <td>0.0</td>\n",
       "      <td>1.0</td>\n",
       "    </tr>\n",
       "    <tr>\n",
       "      <th>2</th>\n",
       "      <td>147.06</td>\n",
       "      <td>147.490</td>\n",
       "      <td>144.27</td>\n",
       "      <td>145.59</td>\n",
       "      <td>45142806</td>\n",
       "      <td>34.706723</td>\n",
       "      <td>34.808204</td>\n",
       "      <td>34.048272</td>\n",
       "      <td>34.359797</td>\n",
       "      <td>180571224</td>\n",
       "      <td>0.0</td>\n",
       "      <td>1.0</td>\n",
       "    </tr>\n",
       "    <tr>\n",
       "      <th>3</th>\n",
       "      <td>146.53</td>\n",
       "      <td>147.140</td>\n",
       "      <td>145.81</td>\n",
       "      <td>146.52</td>\n",
       "      <td>23275690</td>\n",
       "      <td>34.581641</td>\n",
       "      <td>34.725603</td>\n",
       "      <td>34.411718</td>\n",
       "      <td>34.579281</td>\n",
       "      <td>93102760</td>\n",
       "      <td>0.0</td>\n",
       "      <td>1.0</td>\n",
       "    </tr>\n",
       "    <tr>\n",
       "      <th>4</th>\n",
       "      <td>148.96</td>\n",
       "      <td>148.980</td>\n",
       "      <td>146.76</td>\n",
       "      <td>146.76</td>\n",
       "      <td>26787359</td>\n",
       "      <td>35.155130</td>\n",
       "      <td>35.159850</td>\n",
       "      <td>34.635922</td>\n",
       "      <td>34.635922</td>\n",
       "      <td>107149436</td>\n",
       "      <td>0.0</td>\n",
       "      <td>1.0</td>\n",
       "    </tr>\n",
       "    <tr>\n",
       "      <th>...</th>\n",
       "      <td>...</td>\n",
       "      <td>...</td>\n",
       "      <td>...</td>\n",
       "      <td>...</td>\n",
       "      <td>...</td>\n",
       "      <td>...</td>\n",
       "      <td>...</td>\n",
       "      <td>...</td>\n",
       "      <td>...</td>\n",
       "      <td>...</td>\n",
       "      <td>...</td>\n",
       "      <td>...</td>\n",
       "    </tr>\n",
       "    <tr>\n",
       "      <th>1255</th>\n",
       "      <td>162.88</td>\n",
       "      <td>163.170</td>\n",
       "      <td>158.46</td>\n",
       "      <td>161.12</td>\n",
       "      <td>96046376</td>\n",
       "      <td>162.880000</td>\n",
       "      <td>163.170000</td>\n",
       "      <td>158.460000</td>\n",
       "      <td>161.120000</td>\n",
       "      <td>96046376</td>\n",
       "      <td>0.0</td>\n",
       "      <td>1.0</td>\n",
       "    </tr>\n",
       "    <tr>\n",
       "      <th>1256</th>\n",
       "      <td>156.80</td>\n",
       "      <td>162.340</td>\n",
       "      <td>156.72</td>\n",
       "      <td>162.25</td>\n",
       "      <td>94008394</td>\n",
       "      <td>156.800000</td>\n",
       "      <td>162.340000</td>\n",
       "      <td>156.720000</td>\n",
       "      <td>162.250000</td>\n",
       "      <td>94008394</td>\n",
       "      <td>0.0</td>\n",
       "      <td>1.0</td>\n",
       "    </tr>\n",
       "    <tr>\n",
       "      <th>1257</th>\n",
       "      <td>156.57</td>\n",
       "      <td>159.790</td>\n",
       "      <td>155.38</td>\n",
       "      <td>155.91</td>\n",
       "      <td>88063191</td>\n",
       "      <td>156.570000</td>\n",
       "      <td>159.790000</td>\n",
       "      <td>155.380000</td>\n",
       "      <td>155.910000</td>\n",
       "      <td>88063191</td>\n",
       "      <td>0.0</td>\n",
       "      <td>1.0</td>\n",
       "    </tr>\n",
       "    <tr>\n",
       "      <th>1258</th>\n",
       "      <td>163.64</td>\n",
       "      <td>164.515</td>\n",
       "      <td>158.93</td>\n",
       "      <td>159.25</td>\n",
       "      <td>130216792</td>\n",
       "      <td>163.640000</td>\n",
       "      <td>164.515000</td>\n",
       "      <td>158.930000</td>\n",
       "      <td>159.250000</td>\n",
       "      <td>130216792</td>\n",
       "      <td>0.0</td>\n",
       "      <td>1.0</td>\n",
       "    </tr>\n",
       "    <tr>\n",
       "      <th>1259</th>\n",
       "      <td>157.65</td>\n",
       "      <td>166.200</td>\n",
       "      <td>157.25</td>\n",
       "      <td>161.84</td>\n",
       "      <td>131747571</td>\n",
       "      <td>157.650000</td>\n",
       "      <td>166.200000</td>\n",
       "      <td>157.250000</td>\n",
       "      <td>161.840000</td>\n",
       "      <td>131747571</td>\n",
       "      <td>0.0</td>\n",
       "      <td>1.0</td>\n",
       "    </tr>\n",
       "  </tbody>\n",
       "</table>\n",
       "<p>1260 rows × 12 columns</p>\n",
       "</div>"
      ],
      "text/plain": [
       "       close     high     low    open     volume    adjClose     adjHigh  \\\n",
       "0     146.58  147.200  144.96  145.10   32818760   34.593441   34.739763   \n",
       "1     147.51  148.090  146.84  147.54   39752670   34.812924   34.949807   \n",
       "2     147.06  147.490  144.27  145.59   45142806   34.706723   34.808204   \n",
       "3     146.53  147.140  145.81  146.52   23275690   34.581641   34.725603   \n",
       "4     148.96  148.980  146.76  146.76   26787359   35.155130   35.159850   \n",
       "...      ...      ...     ...     ...        ...         ...         ...   \n",
       "1255  162.88  163.170  158.46  161.12   96046376  162.880000  163.170000   \n",
       "1256  156.80  162.340  156.72  162.25   94008394  156.800000  162.340000   \n",
       "1257  156.57  159.790  155.38  155.91   88063191  156.570000  159.790000   \n",
       "1258  163.64  164.515  158.93  159.25  130216792  163.640000  164.515000   \n",
       "1259  157.65  166.200  157.25  161.84  131747571  157.650000  166.200000   \n",
       "\n",
       "          adjLow     adjOpen  adjVolume  divCash  splitFactor  \n",
       "0      34.211115   34.244155  131275040      0.0          1.0  \n",
       "1      34.654802   34.820004  159010680      0.0          1.0  \n",
       "2      34.048272   34.359797  180571224      0.0          1.0  \n",
       "3      34.411718   34.579281   93102760      0.0          1.0  \n",
       "4      34.635922   34.635922  107149436      0.0          1.0  \n",
       "...          ...         ...        ...      ...          ...  \n",
       "1255  158.460000  161.120000   96046376      0.0          1.0  \n",
       "1256  156.720000  162.250000   94008394      0.0          1.0  \n",
       "1257  155.380000  155.910000   88063191      0.0          1.0  \n",
       "1258  158.930000  159.250000  130216792      0.0          1.0  \n",
       "1259  157.250000  161.840000  131747571      0.0          1.0  \n",
       "\n",
       "[1260 rows x 12 columns]"
      ]
     },
     "execution_count": 3,
     "metadata": {},
     "output_type": "execute_result"
    }
   ],
   "source": [
    "try:\n",
    "    #For Kaggle run\n",
    "    AAPL_data=pd.read_csv('/kaggle/input/apple-aapl-stocks-financial-performance/AAPL.csv',index_col=None)\n",
    "    AAPL_data_sliced=AAPL_data[AAPL_data.columns[2:]]\n",
    "    #AAPL_data_sliced\n",
    "except:\n",
    "    #For offline run\n",
    "    AAPL_data=pd.read_csv('AAPL.csv',index_col=None) # Read the data\n",
    "    AAPL_data_sliced=AAPL_data[AAPL_data.columns[2:]] \n",
    "\"\"\"# Slice the first two columns\n",
    "Symbol and Date\" to avoid errors when computing descriptive statistics \n",
    "especially for visualizations\"\"\"\n",
    "AAPL_data_sliced\n"
   ]
  },
  {
   "cell_type": "code",
   "execution_count": 4,
   "metadata": {},
   "outputs": [
    {
     "data": {
      "text/html": [
       "<div>\n",
       "<style scoped>\n",
       "    .dataframe tbody tr th:only-of-type {\n",
       "        vertical-align: middle;\n",
       "    }\n",
       "\n",
       "    .dataframe tbody tr th {\n",
       "        vertical-align: top;\n",
       "    }\n",
       "\n",
       "    .dataframe thead th {\n",
       "        text-align: right;\n",
       "    }\n",
       "</style>\n",
       "<table border=\"1\" class=\"dataframe\">\n",
       "  <thead>\n",
       "    <tr style=\"text-align: right;\">\n",
       "      <th></th>\n",
       "      <th>close</th>\n",
       "      <th>high</th>\n",
       "      <th>low</th>\n",
       "      <th>open</th>\n",
       "      <th>volume</th>\n",
       "      <th>adjClose</th>\n",
       "      <th>adjHigh</th>\n",
       "      <th>adjLow</th>\n",
       "      <th>adjOpen</th>\n",
       "      <th>adjVolume</th>\n",
       "      <th>divCash</th>\n",
       "      <th>splitFactor</th>\n",
       "    </tr>\n",
       "  </thead>\n",
       "  <tbody>\n",
       "    <tr>\n",
       "      <th>0</th>\n",
       "      <td>146.58</td>\n",
       "      <td>147.200</td>\n",
       "      <td>144.96</td>\n",
       "      <td>145.10</td>\n",
       "      <td>32818760</td>\n",
       "      <td>34.593441</td>\n",
       "      <td>34.739763</td>\n",
       "      <td>34.211115</td>\n",
       "      <td>34.244155</td>\n",
       "      <td>131275040</td>\n",
       "      <td>0.0</td>\n",
       "      <td>1.0</td>\n",
       "    </tr>\n",
       "    <tr>\n",
       "      <th>1</th>\n",
       "      <td>147.51</td>\n",
       "      <td>148.090</td>\n",
       "      <td>146.84</td>\n",
       "      <td>147.54</td>\n",
       "      <td>39752670</td>\n",
       "      <td>34.812924</td>\n",
       "      <td>34.949807</td>\n",
       "      <td>34.654802</td>\n",
       "      <td>34.820004</td>\n",
       "      <td>159010680</td>\n",
       "      <td>0.0</td>\n",
       "      <td>1.0</td>\n",
       "    </tr>\n",
       "    <tr>\n",
       "      <th>2</th>\n",
       "      <td>147.06</td>\n",
       "      <td>147.490</td>\n",
       "      <td>144.27</td>\n",
       "      <td>145.59</td>\n",
       "      <td>45142806</td>\n",
       "      <td>34.706723</td>\n",
       "      <td>34.808204</td>\n",
       "      <td>34.048272</td>\n",
       "      <td>34.359797</td>\n",
       "      <td>180571224</td>\n",
       "      <td>0.0</td>\n",
       "      <td>1.0</td>\n",
       "    </tr>\n",
       "    <tr>\n",
       "      <th>3</th>\n",
       "      <td>146.53</td>\n",
       "      <td>147.140</td>\n",
       "      <td>145.81</td>\n",
       "      <td>146.52</td>\n",
       "      <td>23275690</td>\n",
       "      <td>34.581641</td>\n",
       "      <td>34.725603</td>\n",
       "      <td>34.411718</td>\n",
       "      <td>34.579281</td>\n",
       "      <td>93102760</td>\n",
       "      <td>0.0</td>\n",
       "      <td>1.0</td>\n",
       "    </tr>\n",
       "    <tr>\n",
       "      <th>4</th>\n",
       "      <td>148.96</td>\n",
       "      <td>148.980</td>\n",
       "      <td>146.76</td>\n",
       "      <td>146.76</td>\n",
       "      <td>26787359</td>\n",
       "      <td>35.155130</td>\n",
       "      <td>35.159850</td>\n",
       "      <td>34.635922</td>\n",
       "      <td>34.635922</td>\n",
       "      <td>107149436</td>\n",
       "      <td>0.0</td>\n",
       "      <td>1.0</td>\n",
       "    </tr>\n",
       "    <tr>\n",
       "      <th>...</th>\n",
       "      <td>...</td>\n",
       "      <td>...</td>\n",
       "      <td>...</td>\n",
       "      <td>...</td>\n",
       "      <td>...</td>\n",
       "      <td>...</td>\n",
       "      <td>...</td>\n",
       "      <td>...</td>\n",
       "      <td>...</td>\n",
       "      <td>...</td>\n",
       "      <td>...</td>\n",
       "      <td>...</td>\n",
       "    </tr>\n",
       "    <tr>\n",
       "      <th>1255</th>\n",
       "      <td>162.88</td>\n",
       "      <td>163.170</td>\n",
       "      <td>158.46</td>\n",
       "      <td>161.12</td>\n",
       "      <td>96046376</td>\n",
       "      <td>162.880000</td>\n",
       "      <td>163.170000</td>\n",
       "      <td>158.460000</td>\n",
       "      <td>161.120000</td>\n",
       "      <td>96046376</td>\n",
       "      <td>0.0</td>\n",
       "      <td>1.0</td>\n",
       "    </tr>\n",
       "    <tr>\n",
       "      <th>1256</th>\n",
       "      <td>156.80</td>\n",
       "      <td>162.340</td>\n",
       "      <td>156.72</td>\n",
       "      <td>162.25</td>\n",
       "      <td>94008394</td>\n",
       "      <td>156.800000</td>\n",
       "      <td>162.340000</td>\n",
       "      <td>156.720000</td>\n",
       "      <td>162.250000</td>\n",
       "      <td>94008394</td>\n",
       "      <td>0.0</td>\n",
       "      <td>1.0</td>\n",
       "    </tr>\n",
       "    <tr>\n",
       "      <th>1257</th>\n",
       "      <td>156.57</td>\n",
       "      <td>159.790</td>\n",
       "      <td>155.38</td>\n",
       "      <td>155.91</td>\n",
       "      <td>88063191</td>\n",
       "      <td>156.570000</td>\n",
       "      <td>159.790000</td>\n",
       "      <td>155.380000</td>\n",
       "      <td>155.910000</td>\n",
       "      <td>88063191</td>\n",
       "      <td>0.0</td>\n",
       "      <td>1.0</td>\n",
       "    </tr>\n",
       "    <tr>\n",
       "      <th>1258</th>\n",
       "      <td>163.64</td>\n",
       "      <td>164.515</td>\n",
       "      <td>158.93</td>\n",
       "      <td>159.25</td>\n",
       "      <td>130216792</td>\n",
       "      <td>163.640000</td>\n",
       "      <td>164.515000</td>\n",
       "      <td>158.930000</td>\n",
       "      <td>159.250000</td>\n",
       "      <td>130216792</td>\n",
       "      <td>0.0</td>\n",
       "      <td>1.0</td>\n",
       "    </tr>\n",
       "    <tr>\n",
       "      <th>1259</th>\n",
       "      <td>157.65</td>\n",
       "      <td>166.200</td>\n",
       "      <td>157.25</td>\n",
       "      <td>161.84</td>\n",
       "      <td>131747571</td>\n",
       "      <td>157.650000</td>\n",
       "      <td>166.200000</td>\n",
       "      <td>157.250000</td>\n",
       "      <td>161.840000</td>\n",
       "      <td>131747571</td>\n",
       "      <td>0.0</td>\n",
       "      <td>1.0</td>\n",
       "    </tr>\n",
       "  </tbody>\n",
       "</table>\n",
       "<p>1260 rows × 12 columns</p>\n",
       "</div>"
      ],
      "text/plain": [
       "       close     high     low    open     volume    adjClose     adjHigh  \\\n",
       "0     146.58  147.200  144.96  145.10   32818760   34.593441   34.739763   \n",
       "1     147.51  148.090  146.84  147.54   39752670   34.812924   34.949807   \n",
       "2     147.06  147.490  144.27  145.59   45142806   34.706723   34.808204   \n",
       "3     146.53  147.140  145.81  146.52   23275690   34.581641   34.725603   \n",
       "4     148.96  148.980  146.76  146.76   26787359   35.155130   35.159850   \n",
       "...      ...      ...     ...     ...        ...         ...         ...   \n",
       "1255  162.88  163.170  158.46  161.12   96046376  162.880000  163.170000   \n",
       "1256  156.80  162.340  156.72  162.25   94008394  156.800000  162.340000   \n",
       "1257  156.57  159.790  155.38  155.91   88063191  156.570000  159.790000   \n",
       "1258  163.64  164.515  158.93  159.25  130216792  163.640000  164.515000   \n",
       "1259  157.65  166.200  157.25  161.84  131747571  157.650000  166.200000   \n",
       "\n",
       "          adjLow     adjOpen  adjVolume  divCash  splitFactor  \n",
       "0      34.211115   34.244155  131275040      0.0          1.0  \n",
       "1      34.654802   34.820004  159010680      0.0          1.0  \n",
       "2      34.048272   34.359797  180571224      0.0          1.0  \n",
       "3      34.411718   34.579281   93102760      0.0          1.0  \n",
       "4      34.635922   34.635922  107149436      0.0          1.0  \n",
       "...          ...         ...        ...      ...          ...  \n",
       "1255  158.460000  161.120000   96046376      0.0          1.0  \n",
       "1256  156.720000  162.250000   94008394      0.0          1.0  \n",
       "1257  155.380000  155.910000   88063191      0.0          1.0  \n",
       "1258  158.930000  159.250000  130216792      0.0          1.0  \n",
       "1259  157.250000  161.840000  131747571      0.0          1.0  \n",
       "\n",
       "[1260 rows x 12 columns]"
      ]
     },
     "execution_count": 4,
     "metadata": {},
     "output_type": "execute_result"
    }
   ],
   "source": [
    "AAPL_data=pd.read_csv('AAPL.csv',index_col=None) # Read the data \n",
    "AAPL_data_sliced=AAPL_data[AAPL_data.columns[2:]] \n",
    "\"\"\"# Slice the first two columns\n",
    "Symbol and Date\" to avoid errors when computing descriptive statistics \n",
    "especially for visualizations\"\"\"\n",
    "AAPL_data_sliced"
   ]
  },
  {
   "cell_type": "markdown",
   "metadata": {},
   "source": [
    "1.0: Descriptive Statistics\n",
    "\n",
    "1. Mean \n",
    "2. Median\n",
    "3. Weighted Mean\n",
    "4. Weighted Median"
   ]
  },
  {
   "cell_type": "markdown",
   "metadata": {},
   "source": [
    "Compute the 1. mean and 2. median"
   ]
  },
  {
   "cell_type": "code",
   "execution_count": 5,
   "metadata": {},
   "outputs": [
    {
     "name": "stdout",
     "output_type": "stream",
     "text": [
      "False\n",
      "The mean is:191.97562698253967\n",
      "The median is 172.78\n"
     ]
    }
   ],
   "source": [
    "#help(sp500_data)\n",
    "mean=AAPL_data['close'].mean() # Find the mean of the 'Close' column\n",
    "median=AAPL_data['close'].median()\n",
    "print(mean==median)\n",
    "print(\"The mean is:{}\".format(mean))\n",
    "print(\"The median is {}\".format(median))\n",
    "\n"
   ]
  },
  {
   "cell_type": "markdown",
   "metadata": {},
   "source": [
    "Compute the 1.0.3. Weighted mean using numpy library"
   ]
  },
  {
   "cell_type": "code",
   "execution_count": 6,
   "metadata": {},
   "outputs": [
    {
     "data": {
      "text/plain": [
       "False"
      ]
     },
     "execution_count": 6,
     "metadata": {},
     "output_type": "execute_result"
    }
   ],
   "source": [
    "import numpy as np\n",
    "weighted_mean=np.average(AAPL_data['close'],weights=AAPL_data['volume'])\n",
    "weighted_mean==mean"
   ]
  },
  {
   "cell_type": "markdown",
   "metadata": {},
   "source": [
    "Compute the 1.0.4 Weighted median using wquantiles library"
   ]
  },
  {
   "cell_type": "code",
   "execution_count": 7,
   "metadata": {},
   "outputs": [
    {
     "name": "stdout",
     "output_type": "stream",
     "text": [
      "Note: you may need to restart the kernel to use updated packages.\n"
     ]
    },
    {
     "name": "stderr",
     "output_type": "stream",
     "text": [
      "WARNING: Retrying (Retry(total=4, connect=None, read=None, redirect=None, status=None)) after connection broken by 'NewConnectionError('<pip._vendor.urllib3.connection.HTTPSConnection object at 0x0507DBB0>: Failed to establish a new connection: [Errno 11001] getaddrinfo failed')': /simple/wquantiles/\n",
      "WARNING: Retrying (Retry(total=3, connect=None, read=None, redirect=None, status=None)) after connection broken by 'NewConnectionError('<pip._vendor.urllib3.connection.HTTPSConnection object at 0x0507DDD0>: Failed to establish a new connection: [Errno 11001] getaddrinfo failed')': /simple/wquantiles/\n",
      "WARNING: Retrying (Retry(total=2, connect=None, read=None, redirect=None, status=None)) after connection broken by 'NewConnectionError('<pip._vendor.urllib3.connection.HTTPSConnection object at 0x0507DE70>: Failed to establish a new connection: [Errno 11001] getaddrinfo failed')': /simple/wquantiles/\n",
      "WARNING: Retrying (Retry(total=1, connect=None, read=None, redirect=None, status=None)) after connection broken by 'NewConnectionError('<pip._vendor.urllib3.connection.HTTPSConnection object at 0x0507DE90>: Failed to establish a new connection: [Errno 11001] getaddrinfo failed')': /simple/wquantiles/\n",
      "WARNING: Retrying (Retry(total=0, connect=None, read=None, redirect=None, status=None)) after connection broken by 'NewConnectionError('<pip._vendor.urllib3.connection.HTTPSConnection object at 0x050A80F0>: Failed to establish a new connection: [Errno 11001] getaddrinfo failed')': /simple/wquantiles/\n",
      "ERROR: Could not find a version that satisfies the requirement wquantiles (from versions: none)\n",
      "ERROR: No matching distribution found for wquantiles\n"
     ]
    },
    {
     "ename": "NameError",
     "evalue": "name 'wquantiles' is not defined",
     "output_type": "error",
     "traceback": [
      "\u001b[1;31m---------------------------------------------------------------------------\u001b[0m",
      "\u001b[1;31mNameError\u001b[0m                                 Traceback (most recent call last)",
      "\u001b[1;32mC:\\Users\\GreHiDel\\AppData\\Local\\Temp\\ipykernel_6784\\161929514.py\u001b[0m in \u001b[0;36m<module>\u001b[1;34m\u001b[0m\n\u001b[0;32m      1\u001b[0m \u001b[0mget_ipython\u001b[0m\u001b[1;33m(\u001b[0m\u001b[1;33m)\u001b[0m\u001b[1;33m.\u001b[0m\u001b[0mrun_line_magic\u001b[0m\u001b[1;33m(\u001b[0m\u001b[1;34m'pip'\u001b[0m\u001b[1;33m,\u001b[0m \u001b[1;34m'install wquantiles'\u001b[0m\u001b[1;33m)\u001b[0m\u001b[1;33m\u001b[0m\u001b[0m\n\u001b[1;32m----> 2\u001b[1;33m \u001b[0mwquantiles\u001b[0m\u001b[1;33m.\u001b[0m\u001b[0mmedian\u001b[0m\u001b[1;33m(\u001b[0m\u001b[0mAAPL_data\u001b[0m\u001b[1;33m[\u001b[0m\u001b[1;34m'close'\u001b[0m\u001b[1;33m]\u001b[0m\u001b[1;33m,\u001b[0m\u001b[0mweights\u001b[0m\u001b[1;33m=\u001b[0m\u001b[0mAAPL_data\u001b[0m\u001b[1;33m[\u001b[0m\u001b[1;34m'volume'\u001b[0m\u001b[1;33m]\u001b[0m\u001b[1;33m)\u001b[0m\u001b[1;33m\u001b[0m\u001b[0m\n\u001b[0m",
      "\u001b[1;31mNameError\u001b[0m: name 'wquantiles' is not defined"
     ]
    }
   ],
   "source": [
    "#%pip install wquantiles\n",
    "#wquantiles.median(AAPL_data['close'],weights=AAPL_data['volume'])"
   ]
  },
  {
   "cell_type": "markdown",
   "metadata": {},
   "source": [
    "1.1: ESTIMATES OF VARIABILITY\n",
    "\n",
    "1. Dispersion\n",
    "2. Standard deviation\n",
    "3. Mean absolute deviation\n",
    "4. Median absolute deviation from the median\n",
    "5. Range\n",
    "6. Order statistics\n",
    "7. Percentiles\n",
    "8. Interquartile Range"
   ]
  },
  {
   "cell_type": "code",
   "execution_count": null,
   "metadata": {},
   "outputs": [
    {
     "name": "stdout",
     "output_type": "stream",
     "text": [
      "The percentiles are\n",
      "0.05    120.7040\n",
      "0.25    149.2325\n",
      "0.50    172.7800\n",
      "0.75    209.3125\n",
      "0.95    324.9585\n",
      "Name: close, dtype: float64\n",
      "The I.Q.R is 60.08000000000001\n"
     ]
    }
   ],
   "source": [
    "# 2. Standard deviation\n",
    "standard_deviation=AAPL_data['close'].std()\n",
    "#3. Median absolute Deviation using statsmodels package\n",
    "#statsmodels.robust.scale.mad(AAPL_data['close'])\n",
    "\n",
    "#7. Percentiles\n",
    "percentiles=AAPL_data['close'].quantile([0.05,0.25,0.5,0.75,0.95])\n",
    "print(\"The percentiles are\\n{}\".format(percentiles))\n",
    "# 8. Inter Quartile Range (I.Q.R)\n",
    "inter_quartile_range=AAPL_data['close'].quantile(0.75)-AAPL_data['close'].quantile(0.25)\n",
    "print(\"The I.Q.R is {}\".format(inter_quartile_range))"
   ]
  },
  {
   "cell_type": "markdown",
   "metadata": {},
   "source": [
    "1.2: DATA DISTRIBUTION VISUALIZATION\n",
    "1. Box Plot\n",
    "2. Frequency Table\n",
    "3. Histogram\n",
    "4. Density Plot\n",
    "5. Andrews curves\n",
    "6. Scatter Matrix Plot\n",
    "For Categorical or Binary Data\n",
    "7. Bar Plots\n",
    "8. Pie Plots\n"
   ]
  },
  {
   "cell_type": "code",
   "execution_count": null,
   "metadata": {},
   "outputs": [],
   "source": [
    "#1. Box Plot- visualize the percentiles \n",
    "box_plot=AAPL_data['close'].plot.box()\n",
    "box_plot.set_xlabel(\"index\")\n",
    "box_plot.set_ylabel(\"Close values\")\n",
    "\n",
    "\"\"\"\n",
    "Interpreting the box plot:\n",
    "\n",
    "Top of the box = 75th percentiles\n",
    "Bottom of the box = 25th percentiles\n",
    "Horizontal line in the box = Median\n",
    "Dashed lines are the whiskers\n",
    "\n",
    "\"\"\""
   ]
  },
  {
   "cell_type": "code",
   "execution_count": 8,
   "metadata": {},
   "outputs": [
    {
     "data": {
      "text/plain": [
       "(146.765, 186.69]     508\n",
       "(106.441, 146.765]    277\n",
       "(186.69, 226.615]     241\n",
       "(226.615, 266.54]      67\n",
       "(266.54, 306.465]      58\n",
       "(306.465, 346.39]      55\n",
       "(346.39, 386.315]      28\n",
       "(426.24, 466.165]      13\n",
       "(466.165, 506.09]       7\n",
       "(386.315, 426.24]       6\n",
       "Name: close, dtype: int64"
      ]
     },
     "execution_count": 8,
     "metadata": {},
     "output_type": "execute_result"
    }
   ],
   "source": [
    "# 2. Frequency Tables\n",
    "binned_data=pd.cut(AAPL_data['close'],10) # Subdivide the data into 10 parts\n",
    "binned_data.value_counts()"
   ]
  },
  {
   "cell_type": "code",
   "execution_count": null,
   "metadata": {},
   "outputs": [
    {
     "data": {
      "text/plain": [
       "Text(0, 0.5, 'Frequency')"
      ]
     },
     "execution_count": 99,
     "metadata": {},
     "output_type": "execute_result"
    },
    {
     "data": {
      "image/png": "[encoded data removed]",
      "text/plain": [
       "<Figure size 288x288 with 1 Axes>"
      ]
     },
     "metadata": {
      "needs_background": "light"
     },
     "output_type": "display_data"
    }
   ],
   "source": [
    "# 3. Histogram using pandas\n",
    "#import matplotlib\n",
    "\n",
    "histogram=AAPL_data['close'].plot.hist(figsize=(4,4))\n",
    "histogram.set_xlabel(\"Close Data\")\n",
    "histogram.set_ylabel(\"Frequency\")\n"
   ]
  },
  {
   "cell_type": "code",
   "execution_count": null,
   "metadata": {},
   "outputs": [],
   "source": [
    "# 4. Density Plots and Estimates\n",
    "\"Method 1 Density plot from Histogram\"\n",
    "#density_plot=AAPL_data['close'].plot.hist(density=True, xlim[0,12], bins=range(1,12))\n",
    "#AAPL_data['close'].plot.density(ax=ax)\n",
    "#density_plot.set_xlabel(\"Close Data Density plot\")\n",
    "\"Method 2 Density Plot direct using kde() \"\n",
    "density_plot=AAPL_data['close'].plot.kde()\n",
    "density_plot.set_xlabel(\"Close Data Density plot\")"
   ]
  },
  {
   "cell_type": "code",
   "execution_count": null,
   "metadata": {},
   "outputs": [
    {
     "data": {
      "image/png": "[encoded data removed]",
      "text/plain": [
       "<Figure size 432x288 with 1 Axes>"
      ]
     },
     "metadata": {
      "needs_background": "light"
     },
     "output_type": "display_data"
    }
   ],
   "source": [
    "\"   5. Andrews Curves          \"\n",
    "from pandas.plotting import andrews_curves\n",
    "from matplotlib import pyplot as plt\n",
    "names=['close']\n",
    "#,'high','open','volume',adjClose,adjHigh,adjLow,adjOpen,adjVolume,divCash,splitFactor]\n",
    "#andrews_curves(pd.melt(AAPL_data),'variable')\n",
    "andrews_curves(pd.melt(AAPL_data_sliced),'variable')\n",
    "plt.show()"
   ]
  },
  {
   "cell_type": "code",
   "execution_count": null,
   "metadata": {},
   "outputs": [
    {
     "data": {
      "image/png": "[encoded data removed]",
      "text/plain": [
       "<Figure size 360x360 with 144 Axes>"
      ]
     },
     "metadata": {
      "needs_background": "light"
     },
     "output_type": "display_data"
    }
   ],
   "source": [
    "\"   6. Scatter Matrix Plot          \"\n",
    "from pandas.plotting import scatter_matrix\n",
    "#scatter_plot=AAPL_data.plot.pie(figsize=(5,5),subplots=True)\n",
    "scatter_plot=scatter_matrix(AAPL_data,alpha=0.2, figsize=(5,5),diagonal=\"kde\")"
   ]
  },
  {
   "cell_type": "code",
   "execution_count": null,
   "metadata": {},
   "outputs": [
    {
     "data": {
      "text/plain": [
       "Text(0, 0.5, 'Count value')"
      ]
     },
     "execution_count": 111,
     "metadata": {},
     "output_type": "execute_result"
    },
    {
     "data": {
      "image/png": "[encoded data removed]",
      "text/plain": [
       "<Figure size 432x288 with 1 Axes>"
      ]
     },
     "metadata": {
      "needs_background": "light"
     },
     "output_type": "display_data"
    }
   ],
   "source": [
    "\"   7. Bar Plots          \"\n",
    "bar_plot=AAPL_data_sliced.plot.bar()\n",
    "bar_plot.set_xlabel(\"Data Label\")\n",
    "bar_plot.set_ylabel(\"Count value\")"
   ]
  },
  {
   "cell_type": "code",
   "execution_count": null,
   "metadata": {},
   "outputs": [],
   "source": [
    "\" 8. Pie Plots \n",
    "\"Uncomment to run\"         \"\n",
    "#pie_plot=AAPL_data_sliced.plot.pie(subplots=True)\n"
   ]
  },
  {
   "cell_type": "code",
   "execution_count": null,
   "metadata": {},
   "outputs": [
    {
     "data": {
      "text/plain": [
       "True"
      ]
     },
     "execution_count": 119,
     "metadata": {},
     "output_type": "execute_result"
    }
   ],
   "source": [
    "AAPL_data_sliced['adjVolume'].max()>AAPL_data_sliced['close'].max()"
   ]
  },
  {
   "cell_type": "markdown",
   "metadata": {},
   "source": [
    "1.3: Data Exploration\n",
    "1. Mode\n",
    "2. Expected values\n",
    "3. Probability\n",
    "4. Correlation"
   ]
  },
  {
   "cell_type": "code",
   "execution_count": null,
   "metadata": {},
   "outputs": [
    {
     "data": {
      "text/plain": [
       "0    172.50\n",
       "1    174.33\n",
       "dtype: float64"
      ]
     },
     "execution_count": 121,
     "metadata": {},
     "output_type": "execute_result"
    }
   ],
   "source": [
    "\"1. Mode\" \n",
    "\n",
    "#Recommended for categorical data but for illustration we use numerical data\n",
    "AAPL_data_sliced['close'].mode()\n",
    "\n",
    "\n"
   ]
  },
  {
   "cell_type": "code",
   "execution_count": null,
   "metadata": {},
   "outputs": [
    {
     "name": "stdout",
     "output_type": "stream",
     "text": [
      "22.5\n"
     ]
    }
   ],
   "source": [
    "\"2. Expected values\"\n",
    "#This is a concept of Weighted Mean used in Capital Budgeting and Business Valuation\"\n",
    "\n",
    "\"\"\"Example:\n",
    "A marketer for a new cloud technology,for example, offers two levels of service,\n",
    "one priced at $300/month and another at\n",
    "$50/month. The marketer offers free webinars to generate leads, and the firm figures\n",
    "that 5% of the attendees will sign up for the $300 service, 15% will sign up for the $50\n",
    "service, and 80% will not sign up for anything. \n",
    "\n",
    "\"\"\"\n",
    "package_one=300 # Amount in dollars per month\n",
    "package_two=50\n",
    "prob_package_one=5/100\n",
    "prob_package_two=15/100\n",
    "prob_nothing=80/100\n",
    "\n",
    "expected_value=(prob_package_one*package_one)+(package_two*prob_package_two)+(prob_nothing*0)\n",
    "print(expected_value)\n",
    "\n"
   ]
  },
  {
   "cell_type": "code",
   "execution_count": null,
   "metadata": {},
   "outputs": [],
   "source": [
    "\"Probability\"\n",
    "\n"
   ]
  },
  {
   "cell_type": "code",
   "execution_count": null,
   "metadata": {},
   "outputs": [],
   "source": [
    "\"4. Correlation\"\n",
    "\n",
    "\"\"\"sumary_line\n",
    "\n",
    "Key Terms for Correlation\n",
    "\n",
    "Correlation coefficient\n",
    "A metric that measures the extent to which numeric variables are associated with\n",
    "one another (ranges from # negative 1 and positive 1.\n",
    "\n",
    "Correlation matrix\n",
    "A table where the variables are shown on both rows and columns, and the cell\n",
    "values are the correlations between the variables.\n",
    "\n",
    "Scatterplot\n",
    "A plot in which the x-axis is the value of one variable, and the y-axis the value of\n",
    "another\n",
    "\"\"\"\n",
    "\""
   ]
  },
  {
   "cell_type": "code",
   "execution_count": null,
   "metadata": {},
   "outputs": [
    {
     "data": {
      "text/plain": [
       "<AxesSubplot:>"
      ]
     },
     "execution_count": 134,
     "metadata": {},
     "output_type": "execute_result"
    },
    {
     "data": {
      "image/png": "[encoded data removed]",
      "text/plain": [
       "<Figure size 432x288 with 2 Axes>"
      ]
     },
     "metadata": {
      "needs_background": "light"
     },
     "output_type": "display_data"
    }
   ],
   "source": [
    "import seaborn as sns\n",
    "close_data=AAPL_data_sliced['close']\n",
    "\"\"\"sumary_line\n",
    "vmin and vmax= range of values for the colormap\n",
    "cmap          = color of heatmap\n",
    "\"\"\"\n",
    "\n",
    "heatmap=sns.heatmap(AAPL_data_sliced.corr(),vmin=-1,vmax=1,cmap=sns.diverging_palette(20, 220,as_cmap=True))\n",
    "#heatmap_close=sns.heatmap(close_data.corr()[['close']].sort_values(by='close',ascending=False),vmin=-1,vmax=1,cmap=sns.diverging_palette(20, 220,as_cmap=True))\n",
    "heatmap"
   ]
  },
  {
   "cell_type": "code",
   "execution_count": null,
   "metadata": {},
   "outputs": [],
   "source": []
  }
 ],
 "metadata": {
  "interpreter": {
   "hash": "b12b393aa4dbe50cee9c77c34270fd1fae8c52e37a351a2aab85ea76783aeb7d"
  },
  "kernelspec": {
   "display_name": "Python 3.7.0 32-bit",
   "language": "python",
   "name": "python3"
  },
  "language_info": {
   "codemirror_mode": {
    "name": "ipython",
    "version": 3
   },
   "file_extension": ".py",
   "mimetype": "text/x-python",
   "name": "python",
   "nbconvert_exporter": "python",
   "pygments_lexer": "ipython3",
   "version": "3.7.0"
  },
  "orig_nbformat": 4
 },
 "nbformat": 4,
 "nbformat_minor": 2
}

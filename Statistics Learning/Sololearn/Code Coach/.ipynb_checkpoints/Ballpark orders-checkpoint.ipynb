{
 "cells": [
  {
   "cell_type": "code",
   "execution_count": 1,
   "id": "8ce161c0",
   "metadata": {},
   "outputs": [],
   "source": [
    "order='Pizza Cheeseburger Water Popcorn'"
   ]
  },
  {
   "cell_type": "code",
   "execution_count": 2,
   "id": "8c1c0eb6",
   "metadata": {
    "scrolled": true
   },
   "outputs": [],
   "source": [
    "#foods_order=list(str(food_order).split(\" \"))"
   ]
  },
  {
   "cell_type": "code",
   "execution_count": 3,
   "id": "87d11aa6",
   "metadata": {},
   "outputs": [],
   "source": [
    "foods=['Nachos','Pizza','Cheeseburger','Water','Coke']"
   ]
  },
  {
   "cell_type": "code",
   "execution_count": 4,
   "id": "c22d3845",
   "metadata": {},
   "outputs": [],
   "source": [
    "foods_price=[6,6,10,4,5]"
   ]
  },
  {
   "cell_type": "code",
   "execution_count": 5,
   "id": "5fd6ffac",
   "metadata": {},
   "outputs": [],
   "source": [
    "menu=dict(zip(foods,foods_price))"
   ]
  },
  {
   "cell_type": "code",
   "execution_count": 6,
   "id": "04012259",
   "metadata": {},
   "outputs": [
    {
     "data": {
      "text/plain": [
       "{'Nachos': 6, 'Pizza': 6, 'Cheeseburger': 10, 'Water': 4, 'Coke': 5}"
      ]
     },
     "execution_count": 6,
     "metadata": {},
     "output_type": "execute_result"
    }
   ],
   "source": [
    "menu"
   ]
  },
  {
   "cell_type": "code",
   "execution_count": 7,
   "id": "54b946de",
   "metadata": {},
   "outputs": [
    {
     "data": {
      "text/plain": [
       "6"
      ]
     },
     "execution_count": 7,
     "metadata": {},
     "output_type": "execute_result"
    }
   ],
   "source": [
    "menu['Nachos']"
   ]
  },
  {
   "cell_type": "code",
   "execution_count": 8,
   "id": "fc8a6d76",
   "metadata": {},
   "outputs": [],
   "source": [
    "def process_order(order):\n",
    "    total=0\n",
    "    tax=1.07\n",
    "    food_order=str(order).split(\" \")\n",
    "    for item in food_order:\n",
    "        if item not in menu:\n",
    "            #print(\"{} Not in menu\".format(item))\n",
    "            total+=menu['Coke']\n",
    "        elif item in menu:\n",
    "            #print(\"{} in menu\".format(item))\n",
    "            total+=menu[item]\n",
    "        else:\n",
    "            print(\"Something went wrong!! Sorry Buda\")\n",
    "    #print(\"The totals are: {}\".format(total))\n",
    "    total*=tax\n",
    "    #print(\"The totals (tax inclusive) is: {}\".format(total))\n",
    "    return total      "
   ]
  },
  {
   "cell_type": "code",
   "execution_count": 9,
   "id": "4e0fc052",
   "metadata": {
    "scrolled": false
   },
   "outputs": [
    {
     "data": {
      "text/plain": [
       "26.75"
      ]
     },
     "execution_count": 9,
     "metadata": {},
     "output_type": "execute_result"
    }
   ],
   "source": [
    "process_order(order)"
   ]
  },
  {
   "cell_type": "code",
   "execution_count": 10,
   "id": "d61b9211",
   "metadata": {},
   "outputs": [
    {
     "name": "stdout",
     "output_type": "stream",
     "text": [
      "Pizza Cheeseburger Water Popcorn\n",
      "26.75\n"
     ]
    }
   ],
   "source": [
    "menu = {'Nachos': 6, 'Pizza': 6, 'Cheeseburger': 10, 'Water': 4, 'Coke': 5}\n",
    "tax = 1.07\n",
    "\n",
    "items = input().split()\n",
    "total_cost = 0\n",
    "\n",
    "for item in items:\n",
    "    if item not in menu:\n",
    "        total_cost += menu['Coke']\n",
    "    else:\n",
    "        total_cost += menu[item]\n",
    "\n",
    "total_cost *= tax\n",
    "\n",
    "print('%.2f' % total_cost)"
   ]
  }
 ],
 "metadata": {
  "kernelspec": {
   "display_name": "Python 3 (ipykernel)",
   "language": "python",
   "name": "python3"
  },
  "language_info": {
   "codemirror_mode": {
    "name": "ipython",
    "version": 3
   },
   "file_extension": ".py",
   "mimetype": "text/x-python",
   "name": "python",
   "nbconvert_exporter": "python",
   "pygments_lexer": "ipython3",
   "version": "3.9.7"
  }
 },
 "nbformat": 4,
 "nbformat_minor": 5
}

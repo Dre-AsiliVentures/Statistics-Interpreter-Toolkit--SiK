{
 "cells": [
  {
   "cell_type": "code",
   "execution_count": 1,
   "metadata": {},
   "outputs": [],
   "source": [
    "import gspread"
   ]
  },
  {
   "cell_type": "code",
   "execution_count": null,
   "id": "fec9ff43",
   "metadata": {},
   "outputs": [],
   "source": [
    "from google.o"
   ]
  },
  {
   "cell_type": "code",
   "execution_count": 48,
   "id": "d1169d53",
   "metadata": {},
   "outputs": [],
   "source": [
    "from google.oauth2 import service_account\n",
    "from google.oauth2 import credentials\n",
    "#from google.oauth2.service_account import Credentials"
   ]
  },
  {
   "cell_type": "code",
   "execution_count": 46,
   "id": "15188d89",
   "metadata": {},
   "outputs": [
    {
     "ename": "AttributeError",
     "evalue": "'list' object has no attribute 'from_service_account_file'",
     "output_type": "error",
     "traceback": [
      "\u001b[1;31m---------------------------------------------------------------------------\u001b[0m",
      "\u001b[1;31mAttributeError\u001b[0m                            Traceback (most recent call last)",
      "\u001b[1;32me:\\Intellectual Content\\GMT\\Gig-Econ\\Strategic Programmer\\Statistics Interpreter Toolkit\\Statistics-Interpreter-Toolkit--SiK-\\Statistics Learning\\Medium\\Towards Datascience\\Google Sheets as LightDatabase\\Google Sheets as Li.ipynb Cell 3\u001b[0m in \u001b[0;36m<cell line: 1>\u001b[1;34m()\u001b[0m\n\u001b[1;32m----> <a href='vscode-notebook-cell:/e%3A/Intellectual%20Content/GMT/Gig-Econ/Strategic%20Programmer/Statistics%20Interpreter%20Toolkit/Statistics-Interpreter-Toolkit--SiK-/Statistics%20Learning/Medium/Towards%20Datascience/Google%20Sheets%20as%20LightDatabase/Google%20Sheets%20as%20Li.ipynb#ch0000021?line=0'>1</a>\u001b[0m CREDS \u001b[39m=\u001b[39m Credentials\u001b[39m.\u001b[39;49mfrom_service_account_file(\u001b[39m'\u001b[39m\u001b[39mgs_credentials.json\u001b[39m\u001b[39m'\u001b[39m)\n",
      "\u001b[1;31mAttributeError\u001b[0m: 'list' object has no attribute 'from_service_account_file'"
     ]
    }
   ],
   "source": [
    "CREDS = Credentials.from_service_account_file('gs_credentials.json')"
   ]
  },
  {
   "cell_type": "code",
   "execution_count": null,
   "id": "429e44b9",
   "metadata": {},
   "outputs": [],
   "source": [
    "import webapp2\n",
    "from oauth2client.service_account import ServiceAccountCredentials\n",
    "import gspread\n",
    "\n",
    "SCOPES = ['https://spreadsheets.google.com/feeds']"
   ]
  },
  {
   "cell_type": "code",
   "execution_count": null,
   "id": "d29247df",
   "metadata": {},
   "outputs": [],
   "source": [
    "#from oath2client.service_account import ServiceAccountCredentials\n"
   ]
  },
  {
   "cell_type": "code",
   "execution_count": 33,
   "id": "1f78a0d7",
   "metadata": {},
   "outputs": [],
   "source": [
    "#filepath='E:\\Intellectual Content\\GMT\\Gig-Econ\\Strategic Programmer\\Personals\\Google Auth'\n",
    "#filename='/fyr-07-e9f14b88f458.json'\n",
    "filename='gs_credentials.json'\n",
    "SERVICE_ACCOUNT_FILE=filename"
   ]
  },
  {
   "cell_type": "markdown",
   "id": "e80a3b07",
   "metadata": {},
   "source": [
    "### Connect to Google Sheets"
   ]
  },
  {
   "cell_type": "code",
   "execution_count": 34,
   "id": "e1e5d9ca",
   "metadata": {},
   "outputs": [
    {
     "data": {
      "text/plain": [
       "'gs_credentials.json'"
      ]
     },
     "execution_count": 34,
     "metadata": {},
     "output_type": "execute_result"
    }
   ],
   "source": [
    "SERVICE_ACCOUNT_FILE"
   ]
  },
  {
   "cell_type": "code",
   "execution_count": 26,
   "id": "f81fb93a",
   "metadata": {},
   "outputs": [],
   "source": [
    "#scope=['https://www.googleapis.auth/spreadshets','https://www.googleapis.com/auth/drive']\n",
    "#SCOPES = ['https://www.googleapis.com/auth/sqlservice.admin']\n",
    "SCOPES = ['email']"
   ]
  },
  {
   "cell_type": "code",
   "execution_count": 42,
   "id": "cfed622f",
   "metadata": {},
   "outputs": [],
   "source": [
    "import json\n",
    "service_account_info = json.load(open(SERVICE_ACCOUNT_FILE))"
   ]
  },
  {
   "cell_type": "code",
   "execution_count": 51,
   "id": "f407aa6f",
   "metadata": {},
   "outputs": [],
   "source": [
    "#credentials = service_account.Credentials.from_service_account_file(SERVICE_ACCOUNT_FILE)"
   ]
  },
  {
   "cell_type": "code",
   "execution_count": 52,
   "id": "a3f47c2a",
   "metadata": {},
   "outputs": [],
   "source": [
    "#credentials = service_account.Credentials.from_service_account_file(SERVICE_ACCOUNT_FILE,scopes=SCOPES)"
   ]
  },
  {
   "cell_type": "code",
   "execution_count": 53,
   "id": "6e85413d",
   "metadata": {},
   "outputs": [],
   "source": [
    "#credentials=service_account.Credentials.from_json_keyfile_name([filepath+filename],scope)"
   ]
  },
  {
   "cell_type": "code",
   "execution_count": 9,
   "id": "46161ec4",
   "metadata": {},
   "outputs": [],
   "source": [
    "credentials=service_account.Credentials=[filepath+filename]\n",
    "#credentials=ServiceAccountCredentials.from_json_keyfile_name(\"gs_credentials.json\",scope) # 'Deprecated from oauth2client library"
   ]
  },
  {
   "cell_type": "code",
   "execution_count": 55,
   "id": "40a419ac",
   "metadata": {},
   "outputs": [],
   "source": [
    "#client=gspread.authorize(credentials)"
   ]
  },
  {
   "cell_type": "markdown",
   "id": "efcbe64b",
   "metadata": {},
   "source": [
    "### Create a Blank Spreadsheet"
   ]
  },
  {
   "cell_type": "markdown",
   "id": "d343eb7e",
   "metadata": {},
   "source": [
    "sheet=client.create(\"New Spreadsheet\")"
   ]
  },
  {
   "cell_type": "markdown",
   "id": "4a9a559c",
   "metadata": {},
   "source": [
    "### Share a Spreadsheet"
   ]
  },
  {
   "cell_type": "code",
   "execution_count": null,
   "id": "004646df",
   "metadata": {},
   "outputs": [],
   "source": [
    "sheet.share('ghdmwendwa001@gmail.com')\n",
    "perm_type='user',role='writer'"
   ]
  }
 ],
 "metadata": {
  "kernelspec": {
   "display_name": "Python 3.9.7 ('base')",
   "language": "python",
   "name": "python3"
  },
  "language_info": {
   "codemirror_mode": {
    "name": "ipython",
    "version": 3
   },
   "file_extension": ".py",
   "mimetype": "text/x-python",
   "name": "python",
   "nbconvert_exporter": "python",
   "pygments_lexer": "ipython3",
   "version": "3.9.7"
  },
  "vscode": {
   "interpreter": {
    "hash": "b0e6aa0c7315559b465a56df7745b95956df913857210652a8e0ee148ea9e296"
   }
  }
 },
 "nbformat": 4,
 "nbformat_minor": 5
}
